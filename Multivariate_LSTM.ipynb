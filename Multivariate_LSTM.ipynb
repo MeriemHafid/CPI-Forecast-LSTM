{
  "nbformat": 4,
  "nbformat_minor": 0,
  "metadata": {
    "colab": {
      "provenance": []
    },
    "kernelspec": {
      "name": "python3",
      "display_name": "Python 3"
    },
    "language_info": {
      "name": "python"
    }
  },
  "cells": [
    {
      "cell_type": "markdown",
      "source": [
        "# Table of Contents\n",
        "1. [Data Loading](#section3)\n",
        "2. [Multivariate Forecasting with LSTM](#section4)\n",
        "3. [Conclusion](#section5)\n",
        "4. [References](#section6)"
      ],
      "metadata": {
        "id": "Kllpz1DUXs4f"
      }
    },
    {
      "cell_type": "code",
      "source": [
        "pip install fredpy"
      ],
      "metadata": {
        "colab": {
          "base_uri": "https://localhost:8080/"
        },
        "id": "w4oWfOFT7ZS8",
        "outputId": "b7078b42-684f-49bd-d09f-a5a8db500a82"
      },
      "execution_count": null,
      "outputs": [
        {
          "output_type": "stream",
          "name": "stdout",
          "text": [
            "Requirement already satisfied: fredpy in /usr/local/lib/python3.10/dist-packages (3.2.8)\n"
          ]
        }
      ]
    },
    {
      "cell_type": "code",
      "execution_count": null,
      "metadata": {
        "id": "L7iviCG16ukx"
      },
      "outputs": [],
      "source": [
        "from numpy import array\n",
        "import pandas as pd\n",
        "import numpy as np\n",
        "from datetime import datetime\n",
        "from numpy import asarray\n",
        "from keras.models import Sequential\n",
        "from keras.layers import LSTM\n",
        "from keras.layers import Dense, Dropout\n",
        "from sklearn.preprocessing import MinMaxScaler\n",
        "from sklearn.preprocessing import MinMaxScaler\n",
        "from sklearn.model_selection import train_test_split\n",
        "import matplotlib.pyplot as plt\n",
        "from sklearn.model_selection import ShuffleSplit\n",
        "from sklearn.model_selection import KFold\n",
        "import random\n",
        "from sklearn.utils import shuffle\n",
        "import tensorflow as tf\n",
        "import pickle\n",
        "import csv\n",
        "import fredpy as fp\n",
        "from flask import Flask, request, jsonify, render_template\n",
        "from dateutil.relativedelta import relativedelta\n",
        "from datetime import date\n",
        "\n",
        "random.seed(123)\n",
        "\n",
        "export_path = \"/content/\""
      ]
    },
    {
      "cell_type": "markdown",
      "source": [
        "# 1. Data Loading\n"
      ],
      "metadata": {
        "id": "8MMJR-iHndeh"
      }
    },
    {
      "cell_type": "code",
      "source": [
        "# Load FRED API key\n",
        "#fp.api_key = fp.load_api_key('fred_api_key.txt')\n",
        "fp.api_key = 'b4d6af7b7bad0a8d676f184880ab6b3a'"
      ],
      "metadata": {
        "id": "KI_oCM0p7ODf"
      },
      "execution_count": null,
      "outputs": []
    },
    {
      "cell_type": "markdown",
      "source": [
        "From the previous data we selected the following macro index: GDP (total economic output), CPI (inflation measure), unemployment rate, and M2 (money supply). A new data series, **WTI (West Texas Intermediate)**, which is a grade of crude oil used as a benchmark in oil pricing, has been added to the analysis"
      ],
      "metadata": {
        "id": "VvHBvG6comF9"
      }
    },
    {
      "cell_type": "code",
      "source": [
        "gdp = fp.series('GDP')\n",
        "cpi = fp.series('CPIAUCSL')\n",
        "unemployment = fp.series('UNRATE')\n",
        "m2 = fp.series('M2SL')\n",
        "WTI = fp.series('DCOILWTICO')"
      ],
      "metadata": {
        "id": "9-tcykUC7_hN"
      },
      "execution_count": null,
      "outputs": []
    },
    {
      "cell_type": "code",
      "source": [
        "# Base year for NIPA deflators\n",
        "cpi_base_year = cpi.units.split(' ')[1].split('=')[0]\n",
        "# cpi inflation as percent change over past year\n",
        "cpi = cpi.apc()\n",
        "# Convert unemployment, cpi inflation, GDP data to rates\n",
        "unemployment = unemployment.divide(100)\n",
        "cpi = cpi.divide(100)"
      ],
      "metadata": {
        "id": "NKKYj0Aq7_p0"
      },
      "execution_count": null,
      "outputs": []
    },
    {
      "cell_type": "code",
      "source": [
        "data1 = pd.DataFrame({'WTI': WTI.data})"
      ],
      "metadata": {
        "id": "QmYzQApI9KaL"
      },
      "execution_count": null,
      "outputs": []
    },
    {
      "cell_type": "code",
      "source": [
        "# Create a DataFrame with actual and trend data\n",
        "data = pd.DataFrame({\n",
        "        'gdp':gdp.data,\n",
        "        'real_m2':m2.data,\n",
        "        'unemployment':unemployment.data,\n",
        "        'cpi_inflation':cpi.data,\n",
        "        'WTI': WTI.data\n",
        "    })\n",
        "data['gdp'] = data['gdp'].fillna(method='ffill')\n",
        "data['WTI'] = data['WTI'].fillna(method='ffill')\n",
        "data = data.dropna()"
      ],
      "metadata": {
        "id": "7liZtTDi9786"
      },
      "execution_count": null,
      "outputs": []
    },
    {
      "cell_type": "code",
      "source": [
        "data.dropna().corr()"
      ],
      "metadata": {
        "colab": {
          "base_uri": "https://localhost:8080/",
          "height": 206
        },
        "id": "YobhEr5U-KMZ",
        "outputId": "8e258938-89f8-4d5c-ec77-1512180d69e9"
      },
      "execution_count": null,
      "outputs": [
        {
          "output_type": "execute_result",
          "data": {
            "text/plain": [
              "                    gdp   real_m2  unemployment  cpi_inflation       WTI\n",
              "gdp            1.000000  0.970385     -0.183725      -0.010313  0.715881\n",
              "real_m2        0.970385  1.000000     -0.163171       0.087150  0.625368\n",
              "unemployment  -0.183725 -0.163171      1.000000      -0.336794  0.119791\n",
              "cpi_inflation -0.010313  0.087150     -0.336794       1.000000  0.094390\n",
              "WTI            0.715881  0.625368      0.119791       0.094390  1.000000"
            ],
            "text/html": [
              "\n",
              "  <div id=\"df-7e748f7a-2647-44ec-9ce9-f4722ff67be0\" class=\"colab-df-container\">\n",
              "    <div>\n",
              "<style scoped>\n",
              "    .dataframe tbody tr th:only-of-type {\n",
              "        vertical-align: middle;\n",
              "    }\n",
              "\n",
              "    .dataframe tbody tr th {\n",
              "        vertical-align: top;\n",
              "    }\n",
              "\n",
              "    .dataframe thead th {\n",
              "        text-align: right;\n",
              "    }\n",
              "</style>\n",
              "<table border=\"1\" class=\"dataframe\">\n",
              "  <thead>\n",
              "    <tr style=\"text-align: right;\">\n",
              "      <th></th>\n",
              "      <th>gdp</th>\n",
              "      <th>real_m2</th>\n",
              "      <th>unemployment</th>\n",
              "      <th>cpi_inflation</th>\n",
              "      <th>WTI</th>\n",
              "    </tr>\n",
              "  </thead>\n",
              "  <tbody>\n",
              "    <tr>\n",
              "      <th>gdp</th>\n",
              "      <td>1.000000</td>\n",
              "      <td>0.970385</td>\n",
              "      <td>-0.183725</td>\n",
              "      <td>-0.010313</td>\n",
              "      <td>0.715881</td>\n",
              "    </tr>\n",
              "    <tr>\n",
              "      <th>real_m2</th>\n",
              "      <td>0.970385</td>\n",
              "      <td>1.000000</td>\n",
              "      <td>-0.163171</td>\n",
              "      <td>0.087150</td>\n",
              "      <td>0.625368</td>\n",
              "    </tr>\n",
              "    <tr>\n",
              "      <th>unemployment</th>\n",
              "      <td>-0.183725</td>\n",
              "      <td>-0.163171</td>\n",
              "      <td>1.000000</td>\n",
              "      <td>-0.336794</td>\n",
              "      <td>0.119791</td>\n",
              "    </tr>\n",
              "    <tr>\n",
              "      <th>cpi_inflation</th>\n",
              "      <td>-0.010313</td>\n",
              "      <td>0.087150</td>\n",
              "      <td>-0.336794</td>\n",
              "      <td>1.000000</td>\n",
              "      <td>0.094390</td>\n",
              "    </tr>\n",
              "    <tr>\n",
              "      <th>WTI</th>\n",
              "      <td>0.715881</td>\n",
              "      <td>0.625368</td>\n",
              "      <td>0.119791</td>\n",
              "      <td>0.094390</td>\n",
              "      <td>1.000000</td>\n",
              "    </tr>\n",
              "  </tbody>\n",
              "</table>\n",
              "</div>\n",
              "    <div class=\"colab-df-buttons\">\n",
              "\n",
              "  <div class=\"colab-df-container\">\n",
              "    <button class=\"colab-df-convert\" onclick=\"convertToInteractive('df-7e748f7a-2647-44ec-9ce9-f4722ff67be0')\"\n",
              "            title=\"Convert this dataframe to an interactive table.\"\n",
              "            style=\"display:none;\">\n",
              "\n",
              "  <svg xmlns=\"http://www.w3.org/2000/svg\" height=\"24px\" viewBox=\"0 -960 960 960\">\n",
              "    <path d=\"M120-120v-720h720v720H120Zm60-500h600v-160H180v160Zm220 220h160v-160H400v160Zm0 220h160v-160H400v160ZM180-400h160v-160H180v160Zm440 0h160v-160H620v160ZM180-180h160v-160H180v160Zm440 0h160v-160H620v160Z\"/>\n",
              "  </svg>\n",
              "    </button>\n",
              "\n",
              "  <style>\n",
              "    .colab-df-container {\n",
              "      display:flex;\n",
              "      gap: 12px;\n",
              "    }\n",
              "\n",
              "    .colab-df-convert {\n",
              "      background-color: #E8F0FE;\n",
              "      border: none;\n",
              "      border-radius: 50%;\n",
              "      cursor: pointer;\n",
              "      display: none;\n",
              "      fill: #1967D2;\n",
              "      height: 32px;\n",
              "      padding: 0 0 0 0;\n",
              "      width: 32px;\n",
              "    }\n",
              "\n",
              "    .colab-df-convert:hover {\n",
              "      background-color: #E2EBFA;\n",
              "      box-shadow: 0px 1px 2px rgba(60, 64, 67, 0.3), 0px 1px 3px 1px rgba(60, 64, 67, 0.15);\n",
              "      fill: #174EA6;\n",
              "    }\n",
              "\n",
              "    .colab-df-buttons div {\n",
              "      margin-bottom: 4px;\n",
              "    }\n",
              "\n",
              "    [theme=dark] .colab-df-convert {\n",
              "      background-color: #3B4455;\n",
              "      fill: #D2E3FC;\n",
              "    }\n",
              "\n",
              "    [theme=dark] .colab-df-convert:hover {\n",
              "      background-color: #434B5C;\n",
              "      box-shadow: 0px 1px 3px 1px rgba(0, 0, 0, 0.15);\n",
              "      filter: drop-shadow(0px 1px 2px rgba(0, 0, 0, 0.3));\n",
              "      fill: #FFFFFF;\n",
              "    }\n",
              "  </style>\n",
              "\n",
              "    <script>\n",
              "      const buttonEl =\n",
              "        document.querySelector('#df-7e748f7a-2647-44ec-9ce9-f4722ff67be0 button.colab-df-convert');\n",
              "      buttonEl.style.display =\n",
              "        google.colab.kernel.accessAllowed ? 'block' : 'none';\n",
              "\n",
              "      async function convertToInteractive(key) {\n",
              "        const element = document.querySelector('#df-7e748f7a-2647-44ec-9ce9-f4722ff67be0');\n",
              "        const dataTable =\n",
              "          await google.colab.kernel.invokeFunction('convertToInteractive',\n",
              "                                                    [key], {});\n",
              "        if (!dataTable) return;\n",
              "\n",
              "        const docLinkHtml = 'Like what you see? Visit the ' +\n",
              "          '<a target=\"_blank\" href=https://colab.research.google.com/notebooks/data_table.ipynb>data table notebook</a>'\n",
              "          + ' to learn more about interactive tables.';\n",
              "        element.innerHTML = '';\n",
              "        dataTable['output_type'] = 'display_data';\n",
              "        await google.colab.output.renderOutput(dataTable, element);\n",
              "        const docLink = document.createElement('div');\n",
              "        docLink.innerHTML = docLinkHtml;\n",
              "        element.appendChild(docLink);\n",
              "      }\n",
              "    </script>\n",
              "  </div>\n",
              "\n",
              "\n",
              "<div id=\"df-0b2948ac-64be-4efb-a524-9c9849146eec\">\n",
              "  <button class=\"colab-df-quickchart\" onclick=\"quickchart('df-0b2948ac-64be-4efb-a524-9c9849146eec')\"\n",
              "            title=\"Suggest charts\"\n",
              "            style=\"display:none;\">\n",
              "\n",
              "<svg xmlns=\"http://www.w3.org/2000/svg\" height=\"24px\"viewBox=\"0 0 24 24\"\n",
              "     width=\"24px\">\n",
              "    <g>\n",
              "        <path d=\"M19 3H5c-1.1 0-2 .9-2 2v14c0 1.1.9 2 2 2h14c1.1 0 2-.9 2-2V5c0-1.1-.9-2-2-2zM9 17H7v-7h2v7zm4 0h-2V7h2v10zm4 0h-2v-4h2v4z\"/>\n",
              "    </g>\n",
              "</svg>\n",
              "  </button>\n",
              "\n",
              "<style>\n",
              "  .colab-df-quickchart {\n",
              "      --bg-color: #E8F0FE;\n",
              "      --fill-color: #1967D2;\n",
              "      --hover-bg-color: #E2EBFA;\n",
              "      --hover-fill-color: #174EA6;\n",
              "      --disabled-fill-color: #AAA;\n",
              "      --disabled-bg-color: #DDD;\n",
              "  }\n",
              "\n",
              "  [theme=dark] .colab-df-quickchart {\n",
              "      --bg-color: #3B4455;\n",
              "      --fill-color: #D2E3FC;\n",
              "      --hover-bg-color: #434B5C;\n",
              "      --hover-fill-color: #FFFFFF;\n",
              "      --disabled-bg-color: #3B4455;\n",
              "      --disabled-fill-color: #666;\n",
              "  }\n",
              "\n",
              "  .colab-df-quickchart {\n",
              "    background-color: var(--bg-color);\n",
              "    border: none;\n",
              "    border-radius: 50%;\n",
              "    cursor: pointer;\n",
              "    display: none;\n",
              "    fill: var(--fill-color);\n",
              "    height: 32px;\n",
              "    padding: 0;\n",
              "    width: 32px;\n",
              "  }\n",
              "\n",
              "  .colab-df-quickchart:hover {\n",
              "    background-color: var(--hover-bg-color);\n",
              "    box-shadow: 0 1px 2px rgba(60, 64, 67, 0.3), 0 1px 3px 1px rgba(60, 64, 67, 0.15);\n",
              "    fill: var(--button-hover-fill-color);\n",
              "  }\n",
              "\n",
              "  .colab-df-quickchart-complete:disabled,\n",
              "  .colab-df-quickchart-complete:disabled:hover {\n",
              "    background-color: var(--disabled-bg-color);\n",
              "    fill: var(--disabled-fill-color);\n",
              "    box-shadow: none;\n",
              "  }\n",
              "\n",
              "  .colab-df-spinner {\n",
              "    border: 2px solid var(--fill-color);\n",
              "    border-color: transparent;\n",
              "    border-bottom-color: var(--fill-color);\n",
              "    animation:\n",
              "      spin 1s steps(1) infinite;\n",
              "  }\n",
              "\n",
              "  @keyframes spin {\n",
              "    0% {\n",
              "      border-color: transparent;\n",
              "      border-bottom-color: var(--fill-color);\n",
              "      border-left-color: var(--fill-color);\n",
              "    }\n",
              "    20% {\n",
              "      border-color: transparent;\n",
              "      border-left-color: var(--fill-color);\n",
              "      border-top-color: var(--fill-color);\n",
              "    }\n",
              "    30% {\n",
              "      border-color: transparent;\n",
              "      border-left-color: var(--fill-color);\n",
              "      border-top-color: var(--fill-color);\n",
              "      border-right-color: var(--fill-color);\n",
              "    }\n",
              "    40% {\n",
              "      border-color: transparent;\n",
              "      border-right-color: var(--fill-color);\n",
              "      border-top-color: var(--fill-color);\n",
              "    }\n",
              "    60% {\n",
              "      border-color: transparent;\n",
              "      border-right-color: var(--fill-color);\n",
              "    }\n",
              "    80% {\n",
              "      border-color: transparent;\n",
              "      border-right-color: var(--fill-color);\n",
              "      border-bottom-color: var(--fill-color);\n",
              "    }\n",
              "    90% {\n",
              "      border-color: transparent;\n",
              "      border-bottom-color: var(--fill-color);\n",
              "    }\n",
              "  }\n",
              "</style>\n",
              "\n",
              "  <script>\n",
              "    async function quickchart(key) {\n",
              "      const quickchartButtonEl =\n",
              "        document.querySelector('#' + key + ' button');\n",
              "      quickchartButtonEl.disabled = true;  // To prevent multiple clicks.\n",
              "      quickchartButtonEl.classList.add('colab-df-spinner');\n",
              "      try {\n",
              "        const charts = await google.colab.kernel.invokeFunction(\n",
              "            'suggestCharts', [key], {});\n",
              "      } catch (error) {\n",
              "        console.error('Error during call to suggestCharts:', error);\n",
              "      }\n",
              "      quickchartButtonEl.classList.remove('colab-df-spinner');\n",
              "      quickchartButtonEl.classList.add('colab-df-quickchart-complete');\n",
              "    }\n",
              "    (() => {\n",
              "      let quickchartButtonEl =\n",
              "        document.querySelector('#df-0b2948ac-64be-4efb-a524-9c9849146eec button');\n",
              "      quickchartButtonEl.style.display =\n",
              "        google.colab.kernel.accessAllowed ? 'block' : 'none';\n",
              "    })();\n",
              "  </script>\n",
              "</div>\n",
              "\n",
              "    </div>\n",
              "  </div>\n"
            ]
          },
          "metadata": {},
          "execution_count": 318
        }
      ]
    },
    {
      "cell_type": "code",
      "source": [
        "multivariate = data.dropna()\n",
        "multivariate.to_csv(export_path+'multivariate_data.csv')"
      ],
      "metadata": {
        "id": "wmM1NP9_N2Qm"
      },
      "execution_count": null,
      "outputs": []
    },
    {
      "cell_type": "code",
      "source": [
        "multivariate_data = pd.read_csv('/content/multivariate_data.csv')"
      ],
      "metadata": {
        "id": "Q2FPmSCFQUwk"
      },
      "execution_count": null,
      "outputs": []
    },
    {
      "cell_type": "markdown",
      "source": [
        "\n",
        "# 2. Multivariate Forecasting with LSTM\n",
        "\n",
        "Multivariate forecasting with LSTM networks allows for the inclusion of multiple input features to predict future values.\n",
        "forecasting lies in its ability to capture the relationship between multiple influencing factors and the target variable.\n",
        "\n"
      ],
      "metadata": {
        "id": "pAUSoOROnlkD"
      }
    },
    {
      "cell_type": "code",
      "source": [
        "multivariate_data['date'] = pd.to_datetime(multivariate_data['date'])\n",
        "input_data = multivariate_data[['WTI','gdp', 'real_m2', 'unemployment', 'cpi_inflation']]\n",
        "#input_data = multivariate_data[['gdp', 'cpi_inflation', 'unemployment']]\n",
        "# scale all the input data between 0 and 1\n",
        "lenght2 = input_data.shape[0]\n",
        "scaler = MinMaxScaler()"
      ],
      "metadata": {
        "id": "KKzmYmJfj0pv"
      },
      "execution_count": null,
      "outputs": []
    },
    {
      "cell_type": "code",
      "source": [
        "scaler.fit(input_data)\n",
        "scaled_input_data = scaler.fit_transform(input_data)"
      ],
      "metadata": {
        "id": "AIGrABu-I8Oi"
      },
      "execution_count": null,
      "outputs": []
    },
    {
      "cell_type": "code",
      "source": [
        "# the number of lags we will consider here (will consider other lags: p = [24,20,19,14,12])\n",
        "p = 20\n",
        "\n",
        "last2 = [ele for ele in input_data[\"cpi_inflation\"][lenght2-p:]]\n",
        "with open(export_path+\"/last20data.csv\", \"w\") as f:\n",
        "    wr = csv.writer(f, delimiter=\"\\n\")\n",
        "    wr.writerow(['Data'])\n",
        "    wr.writerow(last2)"
      ],
      "metadata": {
        "id": "YFuXwJSRh4R1"
      },
      "execution_count": null,
      "outputs": []
    },
    {
      "cell_type": "code",
      "source": [
        "# Omit the last 20 points for our out of sample forecast\n",
        "out_of_sample_forecast_input = scaled_input_data[lenght2-p:, :]\n",
        "scaled_input_data = scaled_input_data[0:lenght2-p, :]"
      ],
      "metadata": {
        "id": "q51iP6ogk-4H"
      },
      "execution_count": null,
      "outputs": []
    },
    {
      "cell_type": "code",
      "source": [
        "n_steps_in = 20\n",
        "# we only consider as input lagged CPI for now, so n_features = 1\n",
        "n_features = 5\n",
        "n_steps_out = 12"
      ],
      "metadata": {
        "id": "z6-aDeKWeSw8"
      },
      "execution_count": null,
      "outputs": []
    },
    {
      "cell_type": "code",
      "source": [
        "# let's transform our remaning data into a multivariate supervised learning problem\n",
        "train_X = []\n",
        "train_Y = []\n",
        "\n",
        "for i in range(scaled_input_data.shape[0] - n_steps_in - n_steps_out):\n",
        "    train_X.append(scaled_input_data[i:i + n_steps_in, :])\n",
        "    train_Y.append(scaled_input_data[i + n_steps_in:i + n_steps_in + n_steps_out, 4])\n",
        "\n",
        "train_X = asarray(train_X)\n",
        "train_Y = asarray(train_Y)\n",
        "train_Y = train_Y.reshape(train_Y.shape[0], train_Y.shape[1], 1)"
      ],
      "metadata": {
        "id": "V36zFDqElXVm"
      },
      "execution_count": null,
      "outputs": []
    },
    {
      "cell_type": "code",
      "source": [
        "# Divide data in training and testing: keep 50 last inputs for input samples of the test data\n",
        "\n",
        "X_test = train_X[lenght2-p-n_steps_in-n_steps_out-50:lenght2-p-n_steps_in-n_steps_out, :]\n",
        "X_train = train_X[0:lenght2-p-n_steps_in-n_steps_out-50, :]\n",
        "Y_test = train_Y[lenght2-p-n_steps_in-n_steps_out-50:lenght2-p-n_steps_in-n_steps_out, :]\n",
        "Y_train = train_Y[0:lenght2-p-n_steps_in-n_steps_out-50, :]"
      ],
      "metadata": {
        "id": "v41ag2qmllNc"
      },
      "execution_count": null,
      "outputs": []
    },
    {
      "cell_type": "code",
      "source": [
        "model = Sequential()\n",
        "model.add(LSTM(75, activation='relu', return_sequences=True, input_shape=(n_steps_in, n_features)))\n",
        "# Stacked layer of LSTM's\n",
        "model.add(LSTM(75, activation='relu', return_sequences=False))\n",
        "model.add(Dropout(0.2))\n",
        "model.add(Dense(n_steps_out))\n",
        "model.compile(loss='mse', optimizer='adam')\n",
        "training_model = model.fit(X_train, Y_train, epochs=20, verbose=1)"
      ],
      "metadata": {
        "colab": {
          "base_uri": "https://localhost:8080/"
        },
        "id": "6x50m-AJmNqN",
        "outputId": "8f13472e-0b18-4123-8d65-0f7c93dc012b"
      },
      "execution_count": null,
      "outputs": [
        {
          "output_type": "stream",
          "name": "stdout",
          "text": [
            "Epoch 1/20\n",
            "12/12 [==============================] - 2s 14ms/step - loss: 0.1614\n",
            "Epoch 2/20\n",
            "12/12 [==============================] - 0s 22ms/step - loss: 0.0693\n",
            "Epoch 3/20\n",
            "12/12 [==============================] - 0s 17ms/step - loss: 0.0260\n",
            "Epoch 4/20\n",
            "12/12 [==============================] - 0s 14ms/step - loss: 0.0203\n",
            "Epoch 5/20\n",
            "12/12 [==============================] - 0s 17ms/step - loss: 0.0189\n",
            "Epoch 6/20\n",
            "12/12 [==============================] - 0s 15ms/step - loss: 0.0165\n",
            "Epoch 7/20\n",
            "12/12 [==============================] - 0s 15ms/step - loss: 0.0163\n",
            "Epoch 8/20\n",
            "12/12 [==============================] - 0s 14ms/step - loss: 0.0150\n",
            "Epoch 9/20\n",
            "12/12 [==============================] - 0s 14ms/step - loss: 0.0165\n",
            "Epoch 10/20\n",
            "12/12 [==============================] - 0s 14ms/step - loss: 0.0143\n",
            "Epoch 11/20\n",
            "12/12 [==============================] - 0s 14ms/step - loss: 0.0139\n",
            "Epoch 12/20\n",
            "12/12 [==============================] - 0s 13ms/step - loss: 0.0133\n",
            "Epoch 13/20\n",
            "12/12 [==============================] - 0s 13ms/step - loss: 0.0139\n",
            "Epoch 14/20\n",
            "12/12 [==============================] - 0s 15ms/step - loss: 0.0139\n",
            "Epoch 15/20\n",
            "12/12 [==============================] - 0s 15ms/step - loss: 0.0139\n",
            "Epoch 16/20\n",
            "12/12 [==============================] - 0s 16ms/step - loss: 0.0127\n",
            "Epoch 17/20\n",
            "12/12 [==============================] - 0s 27ms/step - loss: 0.0123\n",
            "Epoch 18/20\n",
            "12/12 [==============================] - 0s 31ms/step - loss: 0.0114\n",
            "Epoch 19/20\n",
            "12/12 [==============================] - 0s 29ms/step - loss: 0.0119\n",
            "Epoch 20/20\n",
            "12/12 [==============================] - 0s 29ms/step - loss: 0.0115\n"
          ]
        }
      ]
    },
    {
      "cell_type": "code",
      "source": [
        "plt.plot(training_model.history['loss'], label = 'Train loss')\n",
        "plt.title(\"Mean Squared Error over Training Set\")"
      ],
      "metadata": {
        "colab": {
          "base_uri": "https://localhost:8080/",
          "height": 469
        },
        "id": "UtgiTY2NFqbS",
        "outputId": "bfa95737-e9c1-4cc6-ff16-d20fc943b36a"
      },
      "execution_count": null,
      "outputs": [
        {
          "output_type": "execute_result",
          "data": {
            "text/plain": [
              "Text(0.5, 1.0, 'Mean Squared Error over Training Set')"
            ]
          },
          "metadata": {},
          "execution_count": 329
        },
        {
          "output_type": "display_data",
          "data": {
            "text/plain": [
              "<Figure size 640x480 with 1 Axes>"
            ],
            "image/png": "[encoded data removed]"
          },
          "metadata": {}
        }
      ]
    },
    {
      "cell_type": "markdown",
      "source": [
        "The graph shows the model's Mean Squared Error decreasing sharply and then leveling off as training progresses, indicating initial rapid learning.\n"
      ],
      "metadata": {
        "id": "7zfoOt7hqvGS"
      }
    },
    {
      "cell_type": "code",
      "source": [
        "scaled_out_of_sample_forecast = model.predict(out_of_sample_forecast_input.reshape(1, p, n_features))\n",
        "scaled_out_of_sample_forecast = scaled_out_of_sample_forecast.reshape(n_steps_out, 1)\n",
        "scaled_out_of_sample_forecast_repeated = np.repeat(scaled_out_of_sample_forecast, n_features, axis=-1)\n",
        "list_forecast = scaler.inverse_transform(scaled_out_of_sample_forecast_repeated)[:, 4].tolist()\n",
        "\n",
        "print(list_forecast)\n",
        "aList = [ele for ele in list_forecast]"
      ],
      "metadata": {
        "colab": {
          "base_uri": "https://localhost:8080/"
        },
        "id": "ZK95r8ygm72z",
        "outputId": "18ee57fe-209f-45c9-f630-dc78e55752a2"
      },
      "execution_count": null,
      "outputs": [
        {
          "output_type": "stream",
          "name": "stdout",
          "text": [
            "1/1 [==============================] - 0s 403ms/step\n",
            "[0.029098400846123695, 0.02934006042778492, 0.026673929765820503, 0.030003506690263748, 0.031084932386875153, 0.029266944155097008, 0.02745632641017437, 0.02830478362739086, 0.027007518336176872, 0.027666699141263962, 0.031801436096429825, 0.03339698910713196]\n"
          ]
        }
      ]
    },
    {
      "cell_type": "code",
      "source": [
        "with open(export_path+\"/model2.csv\", \"w\") as f:\n",
        "    wr = csv.writer(f, delimiter=\"\\n\")\n",
        "    wr.writerow(['Data'])\n",
        "    wr.writerow(aList)"
      ],
      "metadata": {
        "id": "WykyGBhlssUL"
      },
      "execution_count": null,
      "outputs": []
    },
    {
      "cell_type": "code",
      "source": [
        "def plotGenerator(model, month):\n",
        "    latestdata = pd.read_csv(export_path+\"/last20data.csv\")['Data'].tolist()\n",
        "    prediction= pd.read_csv(export_path+'model{}.csv'.format(model))['Data'].tolist()[:month]\n",
        "    prediction.insert(0, latestdata[-1])\n",
        "    import datetime\n",
        "    s = '06/2022'\n",
        "\n",
        "    x1= [datetime.datetime.strptime(s, '%m/%Y') +relativedelta(months=i) for i in range(20)]\n",
        "    x2= [datetime.datetime.strptime(s, '%m/%Y') + relativedelta(months= 19+ i) for i in range(month+ 1)]\n",
        "    plt.plot(x1, latestdata, 'r', x2, prediction, 'b--')\n",
        "    plt.xticks(rotation= 30)\n",
        "    plt.grid()\n",
        "    plt.title('Inflation prediction over {} months'.format(month))\n",
        "    plt.xlabel('Date')\n",
        "    plt.ylabel('Inflation Rate in %')\n",
        "    plt.show()\n",
        "    #plt.savefig(images+'/prediction{}.png'.format(model))\n",
        "    plt.clf()"
      ],
      "metadata": {
        "id": "SbIYtP9PuoEh"
      },
      "execution_count": null,
      "outputs": []
    },
    {
      "cell_type": "code",
      "source": [
        "plotGenerator(2, 12)"
      ],
      "metadata": {
        "colab": {
          "base_uri": "https://localhost:8080/",
          "height": 516
        },
        "id": "HRt1B-emuvB9",
        "outputId": "17c3030f-b217-4e95-b6e9-68c523a400b5"
      },
      "execution_count": null,
      "outputs": [
        {
          "output_type": "display_data",
          "data": {
            "text/plain": [
              "<Figure size 640x480 with 1 Axes>"
            ],
            "image/png": "[encoded data removed]"
          },
          "metadata": {}
        },
        {
          "output_type": "display_data",
          "data": {
            "text/plain": [
              "<Figure size 640x480 with 0 Axes>"
            ]
          },
          "metadata": {}
        }
      ]
    },
    {
      "cell_type": "markdown",
      "source": [
        "# 3. Conclusion\n",
        "\n",
        "The graph depicts a predicted decrease in inflation rates over a 12-month period, with the red line indicating the model's forecast. The trend suggests a fall in inflation to levels potentially below the 3% threshold. However, the forecast concludes with an uptick, which could imply expectations of a policy shift, such as the Federal Reserve moderating rate cuts to prevent too low an inflation rate.\n",
        "\n",
        "But also the unexpected rise at the end raises questions about the model's predictive consistency.\n"
      ],
      "metadata": {
        "id": "NpyuceYKnyiC"
      }
    }
  ]
}